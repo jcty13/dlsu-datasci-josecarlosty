{
 "cells": [
  {
   "cell_type": "markdown",
   "metadata": {},
   "source": [
    "## Python Basics Exercise\n",
    "This exercise is designed to test your skills on basic Python programming, `numpy` and `pandas`.\n",
    "\n",
    "Place your answers within the code blocks that have the comment.\n",
    "\n",
    "```python\n",
    "# your code here\n",
    "```\n",
    "\n",
    "Make sure to remove or comment the line below to be able to proceed. It's only placed there as a reminder that the function has not yet been implemented.\n",
    "```python\n",
    "raise NotImplementedError\n",
    "```\n",
    "\n",
    "## Note on \"test scripts\"\n",
    "\n",
    "The code bloock following the function definition are \"unit tests\" which are code blocks which test if the function you implemented is correct or not. It will not print an output **if the conditions are met** (meaning the answer is correct). The current output for \"Exercise 1\" shows an example of when the code is correct and there's no errors, while the output for \"Exercise 2\" shows an example of what it would look like if something is incorrect.\n",
    "\n",
    "---"
   ]
  },
  {
   "cell_type": "code",
   "execution_count": 4,
   "metadata": {},
   "outputs": [],
   "source": [
    "# Place your imports here\n",
    "import numpy as np\n",
    "import pandas as pd\n",
    "import matplotlib as plt"
   ]
  },
  {
   "cell_type": "markdown",
   "metadata": {},
   "source": [
    "**Exercise 1.** Create a function that generates a list containing values from 0 to n-1. **(1 pt.)**"
   ]
  },
  {
   "cell_type": "code",
   "execution_count": 3,
   "metadata": {},
   "outputs": [],
   "source": [
    "def exercise_1(n):\n",
    "    # your code here.\n",
    "    return list(range(n))\n",
    "    raise NotImplementedError"
   ]
  },
  {
   "cell_type": "code",
   "execution_count": 5,
   "metadata": {},
   "outputs": [],
   "source": [
    "# these are test scripts\n",
    "ans = exercise_1(5)\n",
    "assert ans==[0, 1, 2, 3, 4]\n",
    "\n",
    "\n",
    "ans = exercise_1(25)\n",
    "assert ans==[0, 1, 2, 3, 4, 5, 6, 7, 8, 9, 10, 11, 12, 13, 14, 15, 16, 17, 18, 19, 20, 21, 22, 23, 24]"
   ]
  },
  {
   "cell_type": "markdown",
   "metadata": {},
   "source": [
    "**Exercise 2.** Create a function that turns the list into a numpy array **(1 pt.)**"
   ]
  },
  {
   "cell_type": "code",
   "execution_count": 9,
   "metadata": {},
   "outputs": [],
   "source": [
    "def exercise_2(nums):\n",
    "    # your code here.\n",
    "    return np.array(nums)\n",
    "    raise NotImplementedError"
   ]
  },
  {
   "cell_type": "code",
   "execution_count": 10,
   "metadata": {},
   "outputs": [],
   "source": [
    "ans = exercise_2([0, 1, 2, 3, 4])\n",
    "assert (ans==np.arange(5)).sum()==5\n",
    "\n",
    "ans = exercise_2(exercise_1(5))\n",
    "assert (ans==np.arange(5)).sum()==5\n",
    "\n",
    "ans = exercise_2(exercise_1(25))\n",
    "assert (ans==np.arange(25)).sum()==25"
   ]
  },
  {
   "cell_type": "markdown",
   "metadata": {},
   "source": [
    "**Exercise 3.** Create a function that accepts 2 parameters: \n",
    " - nums - a list of integer\n",
    " - n - a single integer number\n",
    " \n",
    "The function adds n to all the numbers in nums.\n",
    "\n",
    "**(1 pt.)**"
   ]
  },
  {
   "cell_type": "code",
   "execution_count": 11,
   "metadata": {},
   "outputs": [],
   "source": [
    "def exercise_3(nums, n):\n",
    "    # your code here.\n",
    "    return np.array(nums)+n\n",
    "    raise NotImplementedError"
   ]
  },
  {
   "cell_type": "code",
   "execution_count": 13,
   "metadata": {},
   "outputs": [
    {
     "data": {
      "text/plain": [
       "array([4, 4, 4])"
      ]
     },
     "execution_count": 13,
     "metadata": {},
     "output_type": "execute_result"
    }
   ],
   "source": [
    "ans = exercise_3([0, 1, 2, 3, 4], 20)\n",
    "assert (ans==np.arange(20, 25)).sum()==5\n",
    "\n",
    "ans = exercise_3([0, 1, 2], 60)\n",
    "assert (ans==np.arange(60, 63)).sum()==3\n",
    "\n",
    "test = exercise_3([1, 1, 1], 3)\n",
    "test"
   ]
  },
  {
   "cell_type": "markdown",
   "metadata": {},
   "source": [
    "**Exercise 4.** Create a function that accepts a list of numbers as input and returns the first number that has a lower than the number preceding it. If there is none, return `None`.\n",
    "\n",
    "**(2 pts.)**"
   ]
  },
  {
   "cell_type": "code",
   "execution_count": 61,
   "metadata": {},
   "outputs": [],
   "source": [
    "def exercise_4(nums):\n",
    "    # your code here.\n",
    "   # print(range(len(nums)))\n",
    "    \n",
    "    for i in range(len(nums)):\n",
    "        if nums[i] > nums[i+1]:\n",
    "            return nums[i+1]\n",
    "        elif i+2 < len(nums):\n",
    "             i = i +1\n",
    "        else:\n",
    "            return None\n",
    "        \n",
    "    raise NotImplementedError\n",
    "    \n"
   ]
  },
  {
   "cell_type": "code",
   "execution_count": 62,
   "metadata": {},
   "outputs": [
    {
     "name": "stdout",
     "output_type": "stream",
     "text": [
      "None\n"
     ]
    }
   ],
   "source": [
    "ans = exercise_4([0.79, 4, 11.8, 99])\n",
    "print(ans)\n",
    "assert ans==None\n",
    "\n",
    "ans = exercise_4([0.79, 4, 11.8, 99, 0.4, 76, 55, 66])\n",
    "assert ans==0.4\n",
    "\n",
    "ans = exercise_4([0.79, 4, 4, 11.0, 11, -10, -11, 12])\n",
    "assert ans==-10"
   ]
  },
  {
   "cell_type": "markdown",
   "metadata": {},
   "source": [
    "**Exercise 5.** Create a function that returns a list of prime factors of a number.\n",
    "\n",
    "**(2 pts.)**"
   ]
  },
  {
   "cell_type": "code",
   "execution_count": 111,
   "metadata": {},
   "outputs": [],
   "source": [
    "def exercise_5(n):\n",
    "    # your code here.\n",
    "    pr_fac =[]\n",
    "    \n",
    "    if n % 2 == 0:\n",
    "        pr_fac.append(2),\n",
    "        n = n/2 \n",
    "      \n",
    "    for i in range(3,int(n),2):\n",
    "        if n % i == 0:\n",
    "            pr_fac.append(i)\n",
    "            n = n / i\n",
    "            \n",
    "    return pr_fac\n",
    "    raise NotImplementedError"
   ]
  },
  {
   "cell_type": "code",
   "execution_count": 101,
   "metadata": {},
   "outputs": [],
   "source": [
    "ans = exercise_5(1)\n",
    "assert ans==[]\n",
    "\n",
    "ans = exercise_5(4)\n",
    "assert ans==[2]\n",
    "\n",
    "ans = exercise_5(1265)\n",
    "assert ans==[5, 11, 23]\n",
    "\n",
    "ans = exercise_5(3674)\n",
    "assert ans==[2, 11, 167]"
   ]
  },
  {
   "cell_type": "markdown",
   "metadata": {},
   "source": [
    "**Exercise 6.** Create a function that has 3 parameters: list of integers (num), integer number (n1), and another integer number (n2). The function will return a list of integers that are multiples of either n1 or n2.\n",
    "\n",
    "**(2 pts.)**"
   ]
  },
  {
   "cell_type": "code",
   "execution_count": 120,
   "metadata": {},
   "outputs": [],
   "source": [
    "def exercise_6(nums, n1, n2):\n",
    "    # your code here.\n",
    "    mult = []\n",
    "    for i in range (len(nums)):\n",
    "        if nums[i] % n1 == 0 or nums[i] % n2 == 0:\n",
    "            if nums[i] != 0:\n",
    "                mult.append(nums[i])\n",
    "                   \n",
    "    print(mult)\n",
    "    return (mult)\n",
    "    raise NotImplementedError"
   ]
  },
  {
   "cell_type": "code",
   "execution_count": 121,
   "metadata": {},
   "outputs": [
    {
     "name": "stdout",
     "output_type": "stream",
     "text": [
      "[3, 4, 6, 8, 9, 12, 15, 16, 18]\n",
      "[17, 27, 34, 51, 54, 68, 81, 85, 102, 108, 119, 135, 136, 153, 162, 170, 187, 189, 204, 216, 221, 238, 243, 255, 270, 272, 289, 297]\n"
     ]
    }
   ],
   "source": [
    "ans = exercise_6(np.arange(20), 3, 4)\n",
    "assert ans==[3, 4, 6, 8, 9, 12, 15, 16, 18]\n",
    "\n",
    "ans = exercise_6(np.arange(300), 17, 27)\n",
    "assert ans==[17, 27, 34, 51, 54, 68, 81, 85, 102, 108, 119, 135, 136, 153, 162, 170, 187, 189, 204, 216, 221, 238, 243, 255, 270, 272, 289, 297]"
   ]
  },
  {
   "cell_type": "markdown",
   "metadata": {},
   "source": [
    "**Exercise 7.** Create a function that reads the Titanic dataset (`data/train.csv`) and returns the ages (in list form) of first 5 (based on index) female passengers who survived .\n",
    "\n",
    "**(2 pts.)**"
   ]
  },
  {
   "cell_type": "code",
   "execution_count": 55,
   "metadata": {},
   "outputs": [],
   "source": [
    "def exercise_7():\n",
    "    # your code here.\n",
    "    DATA_DIR = \"./data/\"\n",
    "    df = pd.read_csv(DATA_DIR + \"train.csv\")\n",
    "    #display(df.head()) \n",
    "    age = []   \n",
    "    \n",
    "    df.loc[df.Sex == \"female\"]\n",
    "    \n",
    "      \n",
    "    #print(df.loc[0])\n",
    "    #display(df.shape)\n",
    "\n",
    "    i = 0\n",
    "    x = 0\n",
    "    while i < 5:\n",
    "        if df.loc[x,'Sex'] == \"female\":\n",
    "            i = i + 1\n",
    "            #print(df.loc[x,'Age'])\n",
    "            age.append(df.loc[x,'Age'])\n",
    "        x = x+1\n",
    "        \n",
    "    return age\n",
    "    raise NotImplementedError"
   ]
  },
  {
   "cell_type": "code",
   "execution_count": 56,
   "metadata": {},
   "outputs": [],
   "source": [
    "assert exercise_7()==[38, 26, 35, 27, 14]"
   ]
  },
  {
   "cell_type": "markdown",
   "metadata": {},
   "source": [
    "**Exercise 8.** Create a function that reads the Titanic dataset (`data/train.csv`) and returns the average fare of all female passengers who survived and have an age greater than 30. Format the result by rounding up to 2 decimal values. Make sure the data type is float.\n",
    "\n",
    "**(2 pts.)**"
   ]
  },
  {
   "cell_type": "code",
   "execution_count": 108,
   "metadata": {},
   "outputs": [],
   "source": [
    "def exercise_8():\n",
    "    # your code here.\n",
    "    DATA_DIR = \"./data/\"\n",
    "    df = pd.read_csv(DATA_DIR + \"train.csv\")\n",
    "    a = 1.0\n",
    "    \n",
    "    #print(df.head())\n",
    "    \n",
    "    df_1 = df[(df.Age > 30) & (df.Sex == \"female\") & (df.Survived == 1)]\n",
    "    a = round(df_1['Fare'].mean(),2)\n",
    "    \n",
    "    #print(df_1)\n",
    "    \n",
    "    #print(df.dtypes)\n",
    "   # print(a)\n",
    "    return a\n",
    "    \n",
    "    raise NotImplementedError"
   ]
  },
  {
   "cell_type": "code",
   "execution_count": 109,
   "metadata": {},
   "outputs": [],
   "source": [
    "assert exercise_8()==71.16"
   ]
  },
  {
   "cell_type": "code",
   "execution_count": null,
   "metadata": {},
   "outputs": [],
   "source": []
  },
  {
   "cell_type": "code",
   "execution_count": null,
   "metadata": {},
   "outputs": [],
   "source": []
  }
 ],
 "metadata": {
  "kernelspec": {
   "display_name": "Python 3",
   "language": "python",
   "name": "python3"
  },
  "language_info": {
   "codemirror_mode": {
    "name": "ipython",
    "version": 3
   },
   "file_extension": ".py",
   "mimetype": "text/x-python",
   "name": "python",
   "nbconvert_exporter": "python",
   "pygments_lexer": "ipython3",
   "version": "3.8.5"
  }
 },
 "nbformat": 4,
 "nbformat_minor": 4
}

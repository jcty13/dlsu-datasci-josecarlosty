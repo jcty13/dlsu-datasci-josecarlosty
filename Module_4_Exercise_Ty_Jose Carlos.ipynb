{
 "cells": [
  {
   "cell_type": "markdown",
   "metadata": {},
   "source": [
    "# Data Visualization Exercise\n",
    "\n",
    "For this exercise, use your creativity and understanding of the different concepts of data visualization.\n",
    "\n",
    "Create a plot (or a series of subplots) from whatever dataset you choose. As much as possible, please choose a dataset of relevance for visual storytelling. Make the plot using `python`. It doesn't matter if you choose to use `matplotlib` or `seaborn`. \n",
    "\n",
    "For the submission:\n",
    "1. Upload the code that generates the plot to your GitHub repository or to Google Classroom (whichever method you're using for submissions).\n",
    "2. Upload a png file of the visualization to Google Classroom and write in the Private Comments the caption for the figure you submitted.\n",
    "3. Make sure to provide the data source in the same folder.\n",
    "\n",
    "Please make an effort to make it a good and compelling graphic. Choose your colors according to the type of data you're visualizing. Make sure to label everything and avoid clutter. \n",
    "\n",
    "As a reference for color choices, you can go to [CARTOColors](https://carto.com/carto-colors/). Simply click on the color map of your choice and it will copy the HEX code of the color."
   ]
  },
  {
   "cell_type": "code",
   "execution_count": 1,
   "metadata": {},
   "outputs": [
    {
     "name": "stdout",
     "output_type": "stream",
     "text": [
      "Populating the interactive namespace from numpy and matplotlib\n"
     ]
    }
   ],
   "source": [
    "import pandas as pd\n",
    "import numpy as np\n",
    "import matplotlib.pyplot as plt\n",
    "import seaborn as sns\n",
    "\n",
    "%pylab inline"
   ]
  },
  {
   "cell_type": "markdown",
   "metadata": {},
   "source": [
    "### Data Source\n",
    "\n",
    "Edit this cell to place the direct link to your data source.\n",
    "\n",
    "You may use the datasets you've downloaded for your project as your submission for this assignment. "
   ]
  },
  {
   "cell_type": "code",
   "execution_count": 3,
   "metadata": {},
   "outputs": [
    {
     "data": {
      "text/plain": [
       "(343, 6)"
      ]
     },
     "execution_count": 3,
     "metadata": {},
     "output_type": "execute_result"
    }
   ],
   "source": [
    "# Read in data\n",
    "data = pd.read_csv(\"2012 DOT.csv\")\n",
    "data.head\n",
    "data.shape\n"
   ]
  },
  {
   "cell_type": "code",
   "execution_count": 4,
   "metadata": {},
   "outputs": [
    {
     "name": "stdout",
     "output_type": "stream",
     "text": [
      "<class 'pandas.core.frame.DataFrame'>\n",
      "RangeIndex: 343 entries, 0 to 342\n",
      "Data columns (total 6 columns):\n",
      " #   Column              Non-Null Count  Dtype \n",
      "---  ------              --------------  ----- \n",
      " 0   region              342 non-null    object\n",
      " 1   province_or_city    337 non-null    object\n",
      " 2   foreign_travelers   336 non-null    object\n",
      " 3   overseas_filipino   329 non-null    object\n",
      " 4   domestic_travelers  336 non-null    object\n",
      " 5   total_2012          337 non-null    object\n",
      "dtypes: object(6)\n",
      "memory usage: 16.2+ KB\n"
     ]
    }
   ],
   "source": [
    "data.info()"
   ]
  },
  {
   "cell_type": "code",
   "execution_count": 5,
   "metadata": {},
   "outputs": [
    {
     "data": {
      "text/plain": [
       "region                object\n",
       "province_or_city      object\n",
       "foreign_travelers     object\n",
       "overseas_filipino     object\n",
       "domestic_travelers    object\n",
       "total_2012            object\n",
       "dtype: object"
      ]
     },
     "execution_count": 5,
     "metadata": {},
     "output_type": "execute_result"
    }
   ],
   "source": [
    "data.dtypes"
   ]
  },
  {
   "cell_type": "code",
   "execution_count": 6,
   "metadata": {},
   "outputs": [
    {
     "data": {
      "text/html": [
       "<div>\n",
       "<style scoped>\n",
       "    .dataframe tbody tr th:only-of-type {\n",
       "        vertical-align: middle;\n",
       "    }\n",
       "\n",
       "    .dataframe tbody tr th {\n",
       "        vertical-align: top;\n",
       "    }\n",
       "\n",
       "    .dataframe thead th {\n",
       "        text-align: right;\n",
       "    }\n",
       "</style>\n",
       "<table border=\"1\" class=\"dataframe\">\n",
       "  <thead>\n",
       "    <tr style=\"text-align: right;\">\n",
       "      <th></th>\n",
       "      <th>region</th>\n",
       "      <th>province_or_city</th>\n",
       "      <th>foreign_travelers</th>\n",
       "      <th>overseas_filipino</th>\n",
       "      <th>domestic_travelers</th>\n",
       "      <th>total_2012</th>\n",
       "    </tr>\n",
       "  </thead>\n",
       "  <tbody>\n",
       "    <tr>\n",
       "      <th>count</th>\n",
       "      <td>342</td>\n",
       "      <td>337</td>\n",
       "      <td>336</td>\n",
       "      <td>329</td>\n",
       "      <td>336</td>\n",
       "      <td>337</td>\n",
       "    </tr>\n",
       "    <tr>\n",
       "      <th>unique</th>\n",
       "      <td>22</td>\n",
       "      <td>299</td>\n",
       "      <td>259</td>\n",
       "      <td>90</td>\n",
       "      <td>296</td>\n",
       "      <td>297</td>\n",
       "    </tr>\n",
       "    <tr>\n",
       "      <th>top</th>\n",
       "      <td>VII (Central Visayas)</td>\n",
       "      <td>Others</td>\n",
       "      <td>-</td>\n",
       "      <td>-</td>\n",
       "      <td>-</td>\n",
       "      <td>0</td>\n",
       "    </tr>\n",
       "    <tr>\n",
       "      <th>freq</th>\n",
       "      <td>64</td>\n",
       "      <td>22</td>\n",
       "      <td>31</td>\n",
       "      <td>149</td>\n",
       "      <td>22</td>\n",
       "      <td>19</td>\n",
       "    </tr>\n",
       "  </tbody>\n",
       "</table>\n",
       "</div>"
      ],
      "text/plain": [
       "                       region province_or_city foreign_travelers  \\\n",
       "count                     342              337               336   \n",
       "unique                     22              299               259   \n",
       "top     VII (Central Visayas)           Others              -      \n",
       "freq                       64               22                31   \n",
       "\n",
       "       overseas_filipino domestic_travelers total_2012  \n",
       "count                329                336        337  \n",
       "unique                90                296        297  \n",
       "top                 -                     -          0  \n",
       "freq                 149                 22         19  "
      ]
     },
     "execution_count": 6,
     "metadata": {},
     "output_type": "execute_result"
    }
   ],
   "source": [
    "data.describe()"
   ]
  },
  {
   "cell_type": "code",
   "execution_count": 7,
   "metadata": {},
   "outputs": [
    {
     "data": {
      "text/plain": [
       "region                 1\n",
       "province_or_city       6\n",
       "foreign_travelers      7\n",
       "overseas_filipino     14\n",
       "domestic_travelers     7\n",
       "total_2012             6\n",
       "dtype: int64"
      ]
     },
     "execution_count": 7,
     "metadata": {},
     "output_type": "execute_result"
    }
   ],
   "source": [
    "data.isna().sum()"
   ]
  },
  {
   "cell_type": "code",
   "execution_count": 9,
   "metadata": {},
   "outputs": [],
   "source": [
    "data1 = data\n",
    "\n",
    "#Take out the rows that don't have any values by cleaning out the total row. \n",
    "#First, removing the extra spaces\n",
    "data1['total_2012'] = data1['total_2012'].astype(str)\n",
    "for i in data1['total_2012']:\n",
    "    data1['total_2012'] = data1['total_2012'].str.strip()\n",
    "\n",
    "#Removing the 0, - and nan values\n",
    "data1 = data1.dropna(subset = ['total_2012'])\n",
    "data1 = data1[data1['total_2012'] != '0']\n",
    "data1 = data1[data1['total_2012'] != '-']\n",
    "data1 = data1[data1['total_2012'] != 'nan']\n",
    "\n",
    "#Removing the Total rows\n",
    "data1 = data1[data1['region'] != 'Grand Total']\n",
    "data1 = data1[data1['province_or_city'] != 'Total']\n",
    "\n",
    "#data1['total_2012'] == '0'\n",
    "#data1['total_2012'] == 'nan'\n",
    "#data1.query(\"total_2012 == '-'\")\n",
    "#data1 = data1['total_2012'].strip\n",
    "#data2 = data1.dropna() "
   ]
  },
  {
   "cell_type": "code",
   "execution_count": 10,
   "metadata": {},
   "outputs": [],
   "source": [
    "#Removing the extra padding on the other columns. All values are currently STR\n",
    "df_obj = data1.select_dtypes(['object'])\n",
    "data1[df_obj.columns] = df_obj.apply(lambda x:x.str.strip())\n",
    "data1['foreign_travelers'] = data1['foreign_travelers'].replace(['-'], '0')\n",
    "data1['overseas_filipino'] = data1['overseas_filipino'].replace(['-'], '0')\n",
    "data1['domestic_travelers'] = data1['domestic_travelers'].replace(['-'], '0')\n",
    "data1['overseas_filipino'].fillna('0', inplace = True)"
   ]
  },
  {
   "cell_type": "code",
   "execution_count": 11,
   "metadata": {},
   "outputs": [
    {
     "data": {
      "text/plain": [
       "region                object\n",
       "province_or_city      object\n",
       "foreign_travelers      int64\n",
       "overseas_filipino      int64\n",
       "domestic_travelers     int64\n",
       "total_2012             int64\n",
       "dtype: object"
      ]
     },
     "execution_count": 11,
     "metadata": {},
     "output_type": "execute_result"
    }
   ],
   "source": [
    "#Change the datatype to numeric for the appropriate columns \n",
    "data2 = data1\n",
    "data2[[\"total_2012\", \"foreign_travelers\", \"overseas_filipino\", \"domestic_travelers\"]] = data2[[\"total_2012\", \"foreign_travelers\", \"overseas_filipino\", \"domestic_travelers\"]].apply(pd.to_numeric)\n",
    "\n",
    "data2.dtypes\n",
    "#data2.isna().sum()"
   ]
  },
  {
   "cell_type": "code",
   "execution_count": 12,
   "metadata": {},
   "outputs": [
    {
     "data": {
      "text/html": [
       "<div>\n",
       "<style scoped>\n",
       "    .dataframe tbody tr th:only-of-type {\n",
       "        vertical-align: middle;\n",
       "    }\n",
       "\n",
       "    .dataframe tbody tr th {\n",
       "        vertical-align: top;\n",
       "    }\n",
       "\n",
       "    .dataframe thead th {\n",
       "        text-align: right;\n",
       "    }\n",
       "</style>\n",
       "<table border=\"1\" class=\"dataframe\">\n",
       "  <thead>\n",
       "    <tr style=\"text-align: right;\">\n",
       "      <th></th>\n",
       "      <th>foreign_travelers</th>\n",
       "      <th>overseas_filipino</th>\n",
       "      <th>domestic_travelers</th>\n",
       "      <th>total_2012</th>\n",
       "    </tr>\n",
       "  </thead>\n",
       "  <tbody>\n",
       "    <tr>\n",
       "      <th>count</th>\n",
       "      <td>2.870000e+02</td>\n",
       "      <td>287.000000</td>\n",
       "      <td>2.870000e+02</td>\n",
       "      <td>2.870000e+02</td>\n",
       "    </tr>\n",
       "    <tr>\n",
       "      <th>mean</th>\n",
       "      <td>2.289162e+04</td>\n",
       "      <td>1092.428571</td>\n",
       "      <td>9.695185e+04</td>\n",
       "      <td>1.207437e+05</td>\n",
       "    </tr>\n",
       "    <tr>\n",
       "      <th>std</th>\n",
       "      <td>1.111731e+05</td>\n",
       "      <td>4956.777496</td>\n",
       "      <td>2.265950e+05</td>\n",
       "      <td>3.024393e+05</td>\n",
       "    </tr>\n",
       "    <tr>\n",
       "      <th>min</th>\n",
       "      <td>0.000000e+00</td>\n",
       "      <td>0.000000</td>\n",
       "      <td>0.000000e+00</td>\n",
       "      <td>2.700000e+01</td>\n",
       "    </tr>\n",
       "    <tr>\n",
       "      <th>25%</th>\n",
       "      <td>1.045000e+02</td>\n",
       "      <td>0.000000</td>\n",
       "      <td>1.917500e+03</td>\n",
       "      <td>2.396500e+03</td>\n",
       "    </tr>\n",
       "    <tr>\n",
       "      <th>50%</th>\n",
       "      <td>6.470000e+02</td>\n",
       "      <td>0.000000</td>\n",
       "      <td>1.634600e+04</td>\n",
       "      <td>1.809000e+04</td>\n",
       "    </tr>\n",
       "    <tr>\n",
       "      <th>75%</th>\n",
       "      <td>5.811500e+03</td>\n",
       "      <td>39.000000</td>\n",
       "      <td>7.464950e+04</td>\n",
       "      <td>8.341700e+04</td>\n",
       "    </tr>\n",
       "    <tr>\n",
       "      <th>max</th>\n",
       "      <td>1.513402e+06</td>\n",
       "      <td>42094.000000</td>\n",
       "      <td>2.005609e+06</td>\n",
       "      <td>2.491159e+06</td>\n",
       "    </tr>\n",
       "  </tbody>\n",
       "</table>\n",
       "</div>"
      ],
      "text/plain": [
       "       foreign_travelers  overseas_filipino  domestic_travelers    total_2012\n",
       "count       2.870000e+02         287.000000        2.870000e+02  2.870000e+02\n",
       "mean        2.289162e+04        1092.428571        9.695185e+04  1.207437e+05\n",
       "std         1.111731e+05        4956.777496        2.265950e+05  3.024393e+05\n",
       "min         0.000000e+00           0.000000        0.000000e+00  2.700000e+01\n",
       "25%         1.045000e+02           0.000000        1.917500e+03  2.396500e+03\n",
       "50%         6.470000e+02           0.000000        1.634600e+04  1.809000e+04\n",
       "75%         5.811500e+03          39.000000        7.464950e+04  8.341700e+04\n",
       "max         1.513402e+06       42094.000000        2.005609e+06  2.491159e+06"
      ]
     },
     "execution_count": 12,
     "metadata": {},
     "output_type": "execute_result"
    }
   ],
   "source": [
    "data2.shape\n",
    "data2.describe()"
   ]
  },
  {
   "cell_type": "code",
   "execution_count": 96,
   "metadata": {},
   "outputs": [
    {
     "data": {
      "text/html": [
       "<div>\n",
       "<style scoped>\n",
       "    .dataframe tbody tr th:only-of-type {\n",
       "        vertical-align: middle;\n",
       "    }\n",
       "\n",
       "    .dataframe tbody tr th {\n",
       "        vertical-align: top;\n",
       "    }\n",
       "\n",
       "    .dataframe thead th {\n",
       "        text-align: right;\n",
       "    }\n",
       "</style>\n",
       "<table border=\"1\" class=\"dataframe\">\n",
       "  <thead>\n",
       "    <tr style=\"text-align: right;\">\n",
       "      <th></th>\n",
       "      <th>foreign_travelers</th>\n",
       "      <th>overseas_filipino</th>\n",
       "      <th>domestic_travelers</th>\n",
       "    </tr>\n",
       "    <tr>\n",
       "      <th>region</th>\n",
       "      <th></th>\n",
       "      <th></th>\n",
       "      <th></th>\n",
       "    </tr>\n",
       "  </thead>\n",
       "  <tbody>\n",
       "    <tr>\n",
       "      <th>CAR (Cordillera Administrative Region)</th>\n",
       "      <td>8.538336</td>\n",
       "      <td>0.406791</td>\n",
       "      <td>91.054873</td>\n",
       "    </tr>\n",
       "    <tr>\n",
       "      <th>I (Ilocos Region)</th>\n",
       "      <td>5.395021</td>\n",
       "      <td>0.087401</td>\n",
       "      <td>94.517577</td>\n",
       "    </tr>\n",
       "    <tr>\n",
       "      <th>II (Cagayan Valley)</th>\n",
       "      <td>3.164158</td>\n",
       "      <td>0.000000</td>\n",
       "      <td>96.835842</td>\n",
       "    </tr>\n",
       "    <tr>\n",
       "      <th>III (Central Luzon)</th>\n",
       "      <td>16.025434</td>\n",
       "      <td>0.466640</td>\n",
       "      <td>83.507926</td>\n",
       "    </tr>\n",
       "    <tr>\n",
       "      <th>IV-A (CALABARZON)</th>\n",
       "      <td>6.160624</td>\n",
       "      <td>0.403581</td>\n",
       "      <td>93.435795</td>\n",
       "    </tr>\n",
       "    <tr>\n",
       "      <th>IV-B (MIMAROPA)</th>\n",
       "      <td>18.046388</td>\n",
       "      <td>0.591842</td>\n",
       "      <td>81.361771</td>\n",
       "    </tr>\n",
       "    <tr>\n",
       "      <th>IX (Zamboanga Peninsula)</th>\n",
       "      <td>6.465642</td>\n",
       "      <td>3.755020</td>\n",
       "      <td>89.779338</td>\n",
       "    </tr>\n",
       "    <tr>\n",
       "      <th>NCR (National Capital Region)</th>\n",
       "      <td>61.957078</td>\n",
       "      <td>0.820744</td>\n",
       "      <td>37.222178</td>\n",
       "    </tr>\n",
       "    <tr>\n",
       "      <th>Region XIII (CARAGA)</th>\n",
       "      <td>6.100274</td>\n",
       "      <td>0.394351</td>\n",
       "      <td>93.505375</td>\n",
       "    </tr>\n",
       "    <tr>\n",
       "      <th>V (Bicol Region)</th>\n",
       "      <td>20.983587</td>\n",
       "      <td>1.430012</td>\n",
       "      <td>77.586401</td>\n",
       "    </tr>\n",
       "    <tr>\n",
       "      <th>VI (Western Visayas)</th>\n",
       "      <td>24.151409</td>\n",
       "      <td>2.241257</td>\n",
       "      <td>73.607334</td>\n",
       "    </tr>\n",
       "    <tr>\n",
       "      <th>VII (Central Visayas)</th>\n",
       "      <td>36.857113</td>\n",
       "      <td>0.575559</td>\n",
       "      <td>62.567328</td>\n",
       "    </tr>\n",
       "    <tr>\n",
       "      <th>VIII (Eastern Visayas)</th>\n",
       "      <td>6.036544</td>\n",
       "      <td>0.205246</td>\n",
       "      <td>93.758209</td>\n",
       "    </tr>\n",
       "    <tr>\n",
       "      <th>X (Northern Mindanao)</th>\n",
       "      <td>2.980882</td>\n",
       "      <td>0.547074</td>\n",
       "      <td>96.472044</td>\n",
       "    </tr>\n",
       "    <tr>\n",
       "      <th>XI (Davao Region)</th>\n",
       "      <td>4.360701</td>\n",
       "      <td>0.549570</td>\n",
       "      <td>95.089730</td>\n",
       "    </tr>\n",
       "    <tr>\n",
       "      <th>XII (SOCCSKSARGEN)</th>\n",
       "      <td>3.171300</td>\n",
       "      <td>0.000234</td>\n",
       "      <td>96.828466</td>\n",
       "    </tr>\n",
       "  </tbody>\n",
       "</table>\n",
       "</div>"
      ],
      "text/plain": [
       "                                        foreign_travelers  overseas_filipino  \\\n",
       "region                                                                         \n",
       "CAR (Cordillera Administrative Region)           8.538336           0.406791   \n",
       "I (Ilocos Region)                                5.395021           0.087401   \n",
       "II (Cagayan Valley)                              3.164158           0.000000   \n",
       "III (Central Luzon)                             16.025434           0.466640   \n",
       "IV-A (CALABARZON)                                6.160624           0.403581   \n",
       "IV-B (MIMAROPA)                                 18.046388           0.591842   \n",
       "IX (Zamboanga Peninsula)                         6.465642           3.755020   \n",
       "NCR (National Capital Region)                   61.957078           0.820744   \n",
       "Region XIII (CARAGA)                             6.100274           0.394351   \n",
       "V (Bicol Region)                                20.983587           1.430012   \n",
       "VI (Western Visayas)                            24.151409           2.241257   \n",
       "VII (Central Visayas)                           36.857113           0.575559   \n",
       "VIII (Eastern Visayas)                           6.036544           0.205246   \n",
       "X (Northern Mindanao)                            2.980882           0.547074   \n",
       "XI (Davao Region)                                4.360701           0.549570   \n",
       "XII (SOCCSKSARGEN)                               3.171300           0.000234   \n",
       "\n",
       "                                        domestic_travelers  \n",
       "region                                                      \n",
       "CAR (Cordillera Administrative Region)           91.054873  \n",
       "I (Ilocos Region)                                94.517577  \n",
       "II (Cagayan Valley)                              96.835842  \n",
       "III (Central Luzon)                              83.507926  \n",
       "IV-A (CALABARZON)                                93.435795  \n",
       "IV-B (MIMAROPA)                                  81.361771  \n",
       "IX (Zamboanga Peninsula)                         89.779338  \n",
       "NCR (National Capital Region)                    37.222178  \n",
       "Region XIII (CARAGA)                             93.505375  \n",
       "V (Bicol Region)                                 77.586401  \n",
       "VI (Western Visayas)                             73.607334  \n",
       "VII (Central Visayas)                            62.567328  \n",
       "VIII (Eastern Visayas)                           93.758209  \n",
       "X (Northern Mindanao)                            96.472044  \n",
       "XI (Davao Region)                                95.089730  \n",
       "XII (SOCCSKSARGEN)                               96.828466  "
      ]
     },
     "execution_count": 96,
     "metadata": {},
     "output_type": "execute_result"
    }
   ],
   "source": [
    "#data2['region'].value_counts()\n",
    "\n",
    "\n",
    "#Get the columns needed for the visual\n",
    "data3 = data2.drop([\"total_2012\",\"province_or_city\"], axis=1)\n",
    "data3.dtypes\n",
    "data4 = data3.groupby('region').sum()\n",
    "\n",
    "data4 = data4.apply(lambda x: x*100/sum(x), axis=1)\n",
    "OFW = data4['overseas_filipino']\n",
    "DT = data4['domestic_travelers']\n",
    "FT = data4['foreign_travelers']\n",
    "\n",
    "data4"
   ]
  },
  {
   "cell_type": "code",
   "execution_count": 93,
   "metadata": {},
   "outputs": [
    {
     "data": {
      "text/plain": [
       "16"
      ]
     },
     "execution_count": 93,
     "metadata": {},
     "output_type": "execute_result"
    }
   ],
   "source": [
    "len(data4.index)"
   ]
  },
  {
   "cell_type": "markdown",
   "metadata": {},
   "source": [
    "#### "
   ]
  },
  {
   "cell_type": "code",
   "execution_count": 153,
   "metadata": {},
   "outputs": [
    {
     "data": {
      "image/png": "[encoded data removed]",
      "text/plain": [
       "<Figure size 1080x288 with 1 Axes>"
      ]
     },
     "metadata": {
      "needs_background": "light"
     },
     "output_type": "display_data"
    }
   ],
   "source": [
    "fig = plt.figure(figsize=(15, 4))\n",
    "ax = fig.add_subplot(111)\n",
    "\n",
    "#ax.barh(DT.index, DT, color='blue', alpha=0.5, label=\"Locals\")\n",
    "#ax.barh(OFW.index, OFW, color='yellow', alpha=0.5, label=\"OFW\", left = DT)\n",
    "#ax.barh(FT.index, FT, color='green', alpha=0.5, label=\"Foreigners\", left =DT)\n",
    "#ax.set_xticks([0, 1])\n",
    "#ax.legend(fontsize=10);\n",
    "\n",
    "N = len(data4.index)\n",
    "r = data4.index\n",
    "\n",
    "#,#E73F74,#80BA5A,#E68310,#008695,#CF1C90,#f97b72,#4b4b8f,#A5AA99\n",
    "colors = ['#F2B701', '#11A579', '#3969AC']\n",
    "labels = [\"Locals\", \"Foreigners\", \"OFW\"]\n",
    "\n",
    "barWidth = 0.9\n",
    "lefts = 0\n",
    "for bars, col, label in zip([DT, FT, OFW], colors, labels):\n",
    "    plt.barh(r, bars, left=lefts, color=col, edgecolor='white', height=barWidth, label=label)\n",
    "    lefts += bars\n",
    "plt.legend()\n",
    "plt.ylim(-0.5, len(bars) - 0.5)\n",
    "\n",
    "ax.set_xlabel('% of Visitors', fontsize=14)\n",
    "ax.set_ylabel('Regions', fontsize=14)\n",
    "ax.set_xlim([0, 100]) # setting the same limit for both plots\n",
    "plt.tight_layout() \n",
    "ax.legend(ncol=len(labels), bbox_to_anchor=(0                                   \n",
    "                        ,1),\n",
    "              loc='lower left', fontsize='small')\n",
    "ax.set_title('% of Visitors for each Region for 2012', fontsize=16, loc='right' )\n",
    "plt.show()\n"
   ]
  },
  {
   "cell_type": "code",
   "execution_count": 155,
   "metadata": {},
   "outputs": [],
   "source": [
    "#fig = plt.figure(figsize=(8, 5))\n",
    "#ax = fig.add_subplot(111)\n",
    "#data4[[\"overseas_filipino\", \"domestic_travelers\",\"foreign_travelers\"]].plot(kind =\"barh\", stacked=True)"
   ]
  },
  {
   "cell_type": "code",
   "execution_count": 156,
   "metadata": {},
   "outputs": [],
   "source": [
    "#stacked_data = data4.apply(lambda x: x*100/sum(x), axis=1)\n",
    "#stacked_data.plot(kind=\"barh\", stacked=True)\n",
    "#plt.title(\"Mince Pie Consumption Breakdown\")\n",
    "#plt.xlabel(\"Family Member\")\n",
    "#plt.ylabel(\"Percentage Pies Consumed (%)\")\n"
   ]
  },
  {
   "cell_type": "code",
   "execution_count": null,
   "metadata": {},
   "outputs": [],
   "source": []
  },
  {
   "cell_type": "code",
   "execution_count": null,
   "metadata": {},
   "outputs": [],
   "source": []
  },
  {
   "cell_type": "code",
   "execution_count": null,
   "metadata": {},
   "outputs": [],
   "source": [
    "# Perform your data wrangling and descriptive stats to help"
   ]
  },
  {
   "cell_type": "code",
   "execution_count": 154,
   "metadata": {},
   "outputs": [],
   "source": [
    "# Visualize your data\n",
    "fig.savefig('% of Visitors for 2012_Ty_Jose Carlos.png')"
   ]
  },
  {
   "cell_type": "markdown",
   "metadata": {},
   "source": [
    "Caption: This is a figure about...."
   ]
  }
 ],
 "metadata": {
  "kernelspec": {
   "display_name": "Python 3",
   "language": "python",
   "name": "python3"
  },
  "language_info": {
   "codemirror_mode": {
    "name": "ipython",
    "version": 3
   },
   "file_extension": ".py",
   "mimetype": "text/x-python",
   "name": "python",
   "nbconvert_exporter": "python",
   "pygments_lexer": "ipython3",
   "version": "3.8.3"
  }
 },
 "nbformat": 4,
 "nbformat_minor": 4
}
